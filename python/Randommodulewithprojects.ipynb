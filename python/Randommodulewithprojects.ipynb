{
 "cells": [
  {
   "cell_type": "markdown",
   "id": "56accfea",
   "metadata": {},
   "source": [
    "# Random module"
   ]
  },
  {
   "cell_type": "code",
   "execution_count": 2,
   "id": "d084fecf",
   "metadata": {},
   "outputs": [],
   "source": [
    "import random"
   ]
  },
  {
   "cell_type": "markdown",
   "id": "700733c2",
   "metadata": {},
   "source": [
    "### random.randint()"
   ]
  },
  {
   "cell_type": "markdown",
   "id": "19a846a5",
   "metadata": {},
   "source": [
    "generates random number between 2 numbers(both including)"
   ]
  },
  {
   "cell_type": "code",
   "execution_count": 12,
   "id": "b4a32cd3",
   "metadata": {},
   "outputs": [
    {
     "name": "stdout",
     "output_type": "stream",
     "text": [
      "7\n"
     ]
    }
   ],
   "source": [
    "print(random.randint(5,10))"
   ]
  },
  {
   "cell_type": "markdown",
   "id": "0aa72b50",
   "metadata": {},
   "source": [
    "### random.randrange()"
   ]
  },
  {
   "cell_type": "markdown",
   "id": "cc20572d",
   "metadata": {},
   "source": [
    "start number included, end number not included"
   ]
  },
  {
   "cell_type": "code",
   "execution_count": 14,
   "id": "65900287",
   "metadata": {},
   "outputs": [
    {
     "name": "stdout",
     "output_type": "stream",
     "text": [
      "7\n"
     ]
    }
   ],
   "source": [
    "print(random.randrange(5,10))"
   ]
  },
  {
   "cell_type": "markdown",
   "id": "c2e6317f",
   "metadata": {},
   "source": [
    "### random.choice()"
   ]
  },
  {
   "cell_type": "markdown",
   "id": "1d11b123",
   "metadata": {},
   "source": [
    "gets random from list "
   ]
  },
  {
   "cell_type": "code",
   "execution_count": 21,
   "id": "f2571d82",
   "metadata": {},
   "outputs": [],
   "source": [
    "l = [3,454,46,34,5,56,565,432]"
   ]
  },
  {
   "cell_type": "code",
   "execution_count": 22,
   "id": "a8168eb8",
   "metadata": {},
   "outputs": [
    {
     "name": "stdout",
     "output_type": "stream",
     "text": [
      "56\n"
     ]
    }
   ],
   "source": [
    "print(random.choice(l))"
   ]
  },
  {
   "cell_type": "code",
   "execution_count": 23,
   "id": "7716f58b",
   "metadata": {},
   "outputs": [
    {
     "name": "stdout",
     "output_type": "stream",
     "text": [
      "Wef\n"
     ]
    }
   ],
   "source": [
    "l =[\"Wef\",\"rger\",\"rfwe\"]\n",
    "print(random.choice(l))"
   ]
  },
  {
   "cell_type": "markdown",
   "id": "012c36df",
   "metadata": {},
   "source": [
    "### random.random()"
   ]
  },
  {
   "cell_type": "markdown",
   "id": "b1f74a88",
   "metadata": {},
   "source": [
    "returns float number between 0 and 1"
   ]
  },
  {
   "cell_type": "code",
   "execution_count": 27,
   "id": "5e458f23",
   "metadata": {},
   "outputs": [
    {
     "name": "stdout",
     "output_type": "stream",
     "text": [
      "0.018472617178084905,0.5820781354386392,0.09342841659826218,0.23925122681326982,0.43974352673362793,0.24248870143381274,0.035124439751149095,0.05646957513262074,0.8157539513238802,0.41930438694356964,"
     ]
    }
   ],
   "source": [
    "for i in range(10):\n",
    "    print(random.random(),end = \",\")\n"
   ]
  },
  {
   "cell_type": "markdown",
   "id": "07ce254c",
   "metadata": {},
   "source": [
    "### random.shuffle()"
   ]
  },
  {
   "cell_type": "markdown",
   "id": "0662b443",
   "metadata": {},
   "source": [
    "suffles the sequence"
   ]
  },
  {
   "cell_type": "code",
   "execution_count": 34,
   "id": "67ac49f8",
   "metadata": {},
   "outputs": [
    {
     "data": {
      "text/plain": [
       "['rger', 'Wef', 'rfwe']"
      ]
     },
     "execution_count": 34,
     "metadata": {},
     "output_type": "execute_result"
    }
   ],
   "source": [
    "random.shuffle(l)\n",
    "l"
   ]
  },
  {
   "cell_type": "code",
   "execution_count": 35,
   "id": "b66f705e",
   "metadata": {},
   "outputs": [
    {
     "ename": "TypeError",
     "evalue": "'tuple' object does not support item assignment",
     "output_type": "error",
     "traceback": [
      "\u001b[1;31m---------------------------------------------------------------------------\u001b[0m",
      "\u001b[1;31mTypeError\u001b[0m                                 Traceback (most recent call last)",
      "\u001b[1;32m<ipython-input-35-3d9e105db1bf>\u001b[0m in \u001b[0;36m<module>\u001b[1;34m\u001b[0m\n\u001b[0;32m      1\u001b[0m \u001b[0ml\u001b[0m \u001b[1;33m=\u001b[0m \u001b[1;33m(\u001b[0m\u001b[1;36m4\u001b[0m\u001b[1;33m,\u001b[0m\u001b[1;36m45\u001b[0m\u001b[1;33m,\u001b[0m\u001b[1;36m4\u001b[0m\u001b[1;33m,\u001b[0m\u001b[1;36m3\u001b[0m\u001b[1;33m,\u001b[0m\u001b[1;36m32\u001b[0m\u001b[1;33m,\u001b[0m\u001b[1;36m23\u001b[0m\u001b[1;33m)\u001b[0m\u001b[1;33m\u001b[0m\u001b[1;33m\u001b[0m\u001b[0m\n\u001b[1;32m----> 2\u001b[1;33m \u001b[0mrandom\u001b[0m\u001b[1;33m.\u001b[0m\u001b[0mshuffle\u001b[0m\u001b[1;33m(\u001b[0m\u001b[0ml\u001b[0m\u001b[1;33m)\u001b[0m\u001b[1;33m\u001b[0m\u001b[1;33m\u001b[0m\u001b[0m\n\u001b[0m\u001b[0;32m      3\u001b[0m \u001b[0ml\u001b[0m\u001b[1;33m\u001b[0m\u001b[1;33m\u001b[0m\u001b[0m\n",
      "\u001b[1;32m~\\anaconda3\\lib\\random.py\u001b[0m in \u001b[0;36mshuffle\u001b[1;34m(self, x, random)\u001b[0m\n\u001b[0;32m    305\u001b[0m                 \u001b[1;31m# pick an element in x[:i+1] with which to exchange x[i]\u001b[0m\u001b[1;33m\u001b[0m\u001b[1;33m\u001b[0m\u001b[1;33m\u001b[0m\u001b[0m\n\u001b[0;32m    306\u001b[0m                 \u001b[0mj\u001b[0m \u001b[1;33m=\u001b[0m \u001b[0mrandbelow\u001b[0m\u001b[1;33m(\u001b[0m\u001b[0mi\u001b[0m\u001b[1;33m+\u001b[0m\u001b[1;36m1\u001b[0m\u001b[1;33m)\u001b[0m\u001b[1;33m\u001b[0m\u001b[1;33m\u001b[0m\u001b[0m\n\u001b[1;32m--> 307\u001b[1;33m                 \u001b[0mx\u001b[0m\u001b[1;33m[\u001b[0m\u001b[0mi\u001b[0m\u001b[1;33m]\u001b[0m\u001b[1;33m,\u001b[0m \u001b[0mx\u001b[0m\u001b[1;33m[\u001b[0m\u001b[0mj\u001b[0m\u001b[1;33m]\u001b[0m \u001b[1;33m=\u001b[0m \u001b[0mx\u001b[0m\u001b[1;33m[\u001b[0m\u001b[0mj\u001b[0m\u001b[1;33m]\u001b[0m\u001b[1;33m,\u001b[0m \u001b[0mx\u001b[0m\u001b[1;33m[\u001b[0m\u001b[0mi\u001b[0m\u001b[1;33m]\u001b[0m\u001b[1;33m\u001b[0m\u001b[1;33m\u001b[0m\u001b[0m\n\u001b[0m\u001b[0;32m    308\u001b[0m         \u001b[1;32melse\u001b[0m\u001b[1;33m:\u001b[0m\u001b[1;33m\u001b[0m\u001b[1;33m\u001b[0m\u001b[0m\n\u001b[0;32m    309\u001b[0m             \u001b[0m_int\u001b[0m \u001b[1;33m=\u001b[0m \u001b[0mint\u001b[0m\u001b[1;33m\u001b[0m\u001b[1;33m\u001b[0m\u001b[0m\n",
      "\u001b[1;31mTypeError\u001b[0m: 'tuple' object does not support item assignment"
     ]
    }
   ],
   "source": [
    "l = (4,45,4,3,32,23)\n",
    "random.shuffle(l)\n",
    "l"
   ]
  },
  {
   "cell_type": "markdown",
   "id": "6c445c37",
   "metadata": {},
   "source": [
    "### random.uniform()"
   ]
  },
  {
   "cell_type": "markdown",
   "id": "6af9b2d0",
   "metadata": {},
   "source": [
    "gives float number between 2 values"
   ]
  },
  {
   "cell_type": "code",
   "execution_count": 36,
   "id": "da80ff18",
   "metadata": {},
   "outputs": [
    {
     "name": "stdout",
     "output_type": "stream",
     "text": [
      "1.4065326246856922 , 2.5798065598641977 , 2.404943793386627 , 2.0354760420914206 , 2.2974340068619354 , 2.9828703268243615 , 1.51882248281117 , 1.3737847609498621 , 1.7339006395506278 , 2.336175479326392 , 2.4396835384549984 , 1.5809706870801463 , 1.9117666012402372 , 2.5965948508782333 , 2.3352651613469373 , 1.055149673011724 , 2.117956022401869 , 2.1787938519698846 , 2.2474084555439924 , 1.2636385575651794 , 1.5858845000238029 , 1.3885727680320494 , 2.7200805177051186 , 2.3619260080928957 , 1.2950278155831112 , 2.359453609020477 , 2.6514947597796623 , 2.207809487725968 , 2.2945691976814615 , 1.21650932681624 , 2.4890538042023485 , 1.3457320304078 , 2.986793019467335 , 2.8529002207024154 , 2.234048761005625 , 2.1643699862254326 , 2.629303001871123 , 1.9659890708934746 , 2.0043018904958636 , 2.766755246581874 , 2.981305091291418 , 2.7458339895744963 , 1.3582243057203487 , 2.5451885551875972 , 2.926671010889336 , 1.9154555893214367 , 2.053093864760415 , 2.7344934151446942 , 2.9995455276219656 , 2.011432921367356 , 2.459995306034456 , 2.9337936793104182 , 2.9214533279629986 , 1.516151335664512 , 1.7644878837150035 , 1.0085160983435675 , 1.101014493650547 , 2.7339354861529013 , 2.2246449566914146 , 1.4510291518439284 , 1.879341913979257 , 1.6971645551895154 , 1.480785822111427 , 2.025070550970503 , 2.3696122239983968 , 1.429451091629024 , 2.9266475237577465 , 2.028013967313976 , 1.4921178878598393 , 1.2087878053855277 , 2.5576927490243344 , 1.3825362242961976 , 2.3736963880912185 , 2.656019314764176 , 1.0461526252954891 , 1.0986216518487641 , 2.153432501307805 , 1.1513049793756804 , 1.3054888890125393 , 1.8521697250637987 , 1.6142365732040476 , 1.3396830181135269 , 1.906824754101074 , 1.626580238964671 , 2.297189129638834 , 2.7497639530946847 , 1.8255311912190741 , 2.187765073655053 , 1.6493858261036904 , 2.7182714616945476 , 2.6139626516210477 , 1.646798894983569 , 2.817976177740258 , 2.5855281333868954 , 2.540630849441982 , 2.593729358552009 , 1.409449507914716 , 2.1796731655498434 , 2.0622155399622275 , 2.2864646727422855 , "
     ]
    }
   ],
   "source": [
    "for i in range(100):\n",
    "    print(random.uniform(1,3), end = \" , \")"
   ]
  },
  {
   "cell_type": "code",
   "execution_count": null,
   "id": "3e6df0c2",
   "metadata": {},
   "outputs": [],
   "source": []
  },
  {
   "cell_type": "markdown",
   "id": "d2b0f98d",
   "metadata": {},
   "source": [
    "### guessing number project"
   ]
  },
  {
   "cell_type": "code",
   "execution_count": null,
   "id": "ed9c5b41",
   "metadata": {},
   "outputs": [
    {
     "ename": "",
     "evalue": "",
     "output_type": "error",
     "traceback": [
      "\u001b[1;31mThe kernel failed to start due to an error with the 'pyzmq' module. Consider re-installing this module.\n",
      "Click <a href='https://aka.ms/kernelFailuresPyzmq'>here</a> for more info."
     ]
    }
   ],
   "source": [
    "from random import*"
   ]
  },
  {
   "cell_type": "code",
   "execution_count": null,
   "id": "56a234fe",
   "metadata": {},
   "outputs": [
    {
     "ename": "",
     "evalue": "",
     "output_type": "error",
     "traceback": [
      "\u001b[1;31mThe kernel failed to start due to an error with the 'pyzmq' module. Consider re-installing this module.\n",
      "Click <a href='https://aka.ms/kernelFailuresPyzmq'>here</a> for more info."
     ]
    }
   ],
   "source": [
    "user_number = int(input(\"Enter your number: \"))\n",
    "random_number = randint(1,100)\n",
    "if user_number >random_number:\n",
    "    print(\"your number is too high\")\n",
    "    print(\"right answer :\" + str(random_number))\n",
    "elif user_number < random_number:\n",
    "    print(\"your number is too low\")\n",
    "    print(\"right answer :\" + str(random_number))\n",
    "else:\n",
    "    print(\"Correct!!!\")\n",
    "    "
   ]
  },
  {
   "cell_type": "code",
   "execution_count": 10,
   "id": "48c1643d",
   "metadata": {},
   "outputs": [
    {
     "name": "stdout",
     "output_type": "stream",
     "text": [
      "Enter your number: 55\n",
      "your number is too low, try again\n",
      "Enter your number : 88\n",
      "your number is too high, try again\n",
      "Enter your number : 66\n",
      "your number is too high, try again\n",
      "Enter your number : 60\n",
      "your number is too high, try again\n",
      "Enter your number : 58\n",
      "your number is too high, try again\n",
      "Enter your number : 56\n",
      "your number is too low, try again\n",
      "Enter your number : 57\n",
      "Correct!!!\n"
     ]
    }
   ],
   "source": [
    "user_number = int(input(\"Enter your number: \"))\n",
    "random_number = randint(1,100)\n",
    "while True:\n",
    "    if user_number >random_number:\n",
    "        print(\"your number is too high, try again\")\n",
    "        user_number = int(input(\"Enter your number : \"))\n",
    "    elif user_number < random_number:\n",
    "        print(\"your number is too low, try again\")\n",
    "        user_number = int(input(\"Enter your number : \"))\n",
    "    else:\n",
    "        print(\"Correct!!!\")\n",
    "        break\n",
    "    \n"
   ]
  },
  {
   "cell_type": "markdown",
   "id": "12903c7a",
   "metadata": {},
   "source": [
    "##### variations can be added by giving user the number of trys they have made to guess number\n",
    "#also exception canbe handeled if unintended input"
   ]
  },
  {
   "cell_type": "code",
   "execution_count": null,
   "id": "a526014a",
   "metadata": {},
   "outputs": [],
   "source": []
  },
  {
   "cell_type": "code",
   "execution_count": null,
   "id": "e1ace53b",
   "metadata": {},
   "outputs": [],
   "source": []
  },
  {
   "cell_type": "markdown",
   "id": "4058beda",
   "metadata": {},
   "source": [
    "## Rock, paper, scissors game "
   ]
  },
  {
   "cell_type": "code",
   "execution_count": 6,
   "id": "b5c920cb",
   "metadata": {},
   "outputs": [
    {
     "name": "stdout",
     "output_type": "stream",
     "text": [
      "Enter rock/paper/scissors :rock\n",
      "comp_choice : scissorsyour choice : rock\n",
      "You won!!!\n"
     ]
    }
   ],
   "source": [
    "user_choice = input(\"Enter rock/paper/scissors :\")\n",
    "l = [\"rock\",\"paper\",\"scissors\"]\n",
    "comp_choice = choice(l)\n",
    "if user_choice == comp_choice:\n",
    "    print(\"comp_choice : \" + comp_choice + \"your choice : \" + user_choice)\n",
    "    print(\"Tie!!\")\n",
    "elif(user_choice == \"rock\" and comp_choice ==\"paper\") or (user_choice == \"paper\" and comp_choice == \"scissors\") or (user_choice == \"scissors\" and comp_choice == \"rock\"):\n",
    "    print(\"comp_choice : \" + comp_choice + \"your choice : \" + user_choice)\n",
    "    print(\"You lost!\")\n",
    "elif(user_choice == \"rock\" and comp_choice == \"scissors\") or (user_choice == \"scissors\" and comp_choice ==\"paper\" ) or (user_choice == \"paper\" and comp_choice == \"rock\"):\n",
    "    print(\"comp_choice : \" + comp_choice + \"your choice : \" + user_choice)\n",
    "    print(\"You won!!!\")\n",
    "\n",
    "        \n",
    "        \n",
    "        "
   ]
  },
  {
   "cell_type": "code",
   "execution_count": 27,
   "id": "1da1f505",
   "metadata": {},
   "outputs": [
    {
     "name": "stdout",
     "output_type": "stream",
     "text": [
      "Enter rock/paper/scissors :paper\n",
      "You won!\n",
      "your choice: paper, comp_choice : rock\n"
     ]
    }
   ],
   "source": [
    "user_choice = input(\"Enter rock/paper/scissors :\")\n",
    "l = [\"rock\",\"paper\",\"scissors\"]\n",
    "comp_choice = choice(l)\n",
    "if (l.index(user_choice)-1) == l.index(comp_choice) :\n",
    "    print(\"You won!\")\n",
    "    print(\"your choice: \"+ user_choice + \", comp_choice : \" + comp_choice )\n",
    "elif l.index(user_choice) == l.index(comp_choice) :\n",
    "    print(\"Tie!\")\n",
    "    print(\"your choice: \"+ user_choice + \", comp_choice : \" + comp_choice )\n",
    "else :\n",
    "    print(\"You lost!\")\n",
    "    print(\"your choice: \"+ user_choice + \", comp_choice : \" + comp_choice )\n",
    "    \n",
    "    "
   ]
  },
  {
   "cell_type": "code",
   "execution_count": 3,
   "id": "34865b0f",
   "metadata": {},
   "outputs": [
    {
     "name": "stdout",
     "output_type": "stream",
     "text": [
      "Enter rock/paper/scissors :scissors\n",
      "You won round 1 !\n",
      "your choice: scissors, comp_choice : paper\n",
      "Enter rock/paper/scissors :scissors\n",
      "You lost round 2 !\n",
      "your choice: scissors, comp_choice : rock\n",
      "Enter rock/paper/scissors :scissors\n",
      "You lost round 3 !\n",
      "your choice: scissors, comp_choice : rock\n",
      "Enter rock/paper/scissors :scissors\n",
      "You won round 4 !\n",
      "your choice: scissors, comp_choice : paper\n",
      "Enter rock/paper/scissors :scissors\n",
      "You won round 5 !\n",
      "your choice: scissors, comp_choice : paper\n",
      "Congrats!!!, you won the game by  3:2\n"
     ]
    }
   ],
   "source": [
    "user_score = 0\n",
    "comp_score = 0\n",
    "from random import *\n",
    "from math import *\n",
    "for i in range(1,6):\n",
    "    l = [\"rock\",\"paper\",\"scissors\"]\n",
    "    user_choice = input(\"Enter rock/paper/scissors :\")\n",
    "    comp_choice = choice(l)\n",
    "    if (l.index(user_choice)-1) == l.index(comp_choice) or (l.index(user_choice)-1 == -1 and l.index(comp_choice) ==2) :\n",
    "        print(\"You won round \" + str(i) + \" !\")\n",
    "        print(\"your choice: \"+ user_choice + \", comp_choice : \" + comp_choice )\n",
    "        user_score += 1\n",
    "        \n",
    "    elif l.index(user_choice) == l.index(comp_choice) :\n",
    "        print(\"Tie round \" + str(i) + \" !\")\n",
    "        print(\"your choice: \"+ user_choice + \", comp_choice : \" + comp_choice )\n",
    "        \n",
    "    else :\n",
    "        print(\"You lost round \" + str(i) + \" !\")\n",
    "        print(\"your choice: \"+ user_choice + \", comp_choice : \" + comp_choice )\n",
    "        comp_score += 1\n",
    "        \n",
    "        \n",
    "if user_score > comp_score :\n",
    "    print(\"Congrats!!!, you won the game by  {}:{}\".format(user_score,comp_score))\n",
    "elif user_score < comp_score :\n",
    "    print(\"You lost the game by {}:{}\".format(user_score,comp_score))\n",
    "else :\n",
    "    print(\"Game tie : score : 0:0\")\n",
    "    "
   ]
  },
  {
   "cell_type": "code",
   "execution_count": 3,
   "id": "0979a086",
   "metadata": {},
   "outputs": [],
   "source": [
    "#variantions can be added by asking at the end whether want to play or exit\n",
    "# can use while loop"
   ]
  },
  {
   "cell_type": "code",
   "execution_count": 2,
   "id": "6acbf0b7",
   "metadata": {},
   "outputs": [
    {
     "name": "stdout",
     "output_type": "stream",
     "text": [
      "Game starts :\n",
      "    1. Play\n",
      "    2. Exit\n",
      "    1\n",
      "Enter rock/paper/scissors :scissors\n",
      "comp_choice : paperyour choice : scissors\n",
      "You won round 1 !\n",
      "Enter rock/paper/scissors :scissors\n",
      "comp_choice : scissorsyour choice : scissors\n",
      "Tie round 2 !\n",
      "Enter rock/paper/scissors :scissors\n",
      "comp_choice : paperyour choice : scissors\n",
      "You won round 3 !\n",
      "Enter rock/paper/scissors :scissors\n",
      "comp_choice : paperyour choice : scissors\n",
      "You won round 4 !\n",
      "Enter rock/paper/scissors :scissors\n",
      "comp_choice : rockyour choice : scissors\n",
      "You lost round 5 !\n",
      "Congrats!!!, you won the game by  3:1\n",
      "Game starts :\n",
      "    1. Play\n",
      "    2. Exit\n",
      "    2\n"
     ]
    }
   ],
   "source": [
    "from random import *\n",
    "comp_score = 0\n",
    "user_score = 0 \n",
    "while True :\n",
    "    ui = input(\"\"\"Game starts :\n",
    "    1. Play\n",
    "    2. Exit\n",
    "    \"\"\")\n",
    "    if ui == str(2):\n",
    "        break\n",
    "    for i in range(1,6):\n",
    "        user_choice = input(\"Enter rock/paper/scissors :\")\n",
    "        l = [\"rock\",\"paper\",\"scissors\"]\n",
    "        comp_choice = choice(l)\n",
    "        if user_choice == comp_choice:\n",
    "            print(\"comp_choice : \" + comp_choice + \"your choice : \" + user_choice)\n",
    "            print(\"Tie round \" + str(i) + \" !\")\n",
    "        elif(user_choice == \"rock\" and comp_choice ==\"paper\") or (user_choice == \"paper\" and comp_choice == \"scissors\") or (user_choice == \"scissors\" and comp_choice == \"rock\"):\n",
    "            print(\"comp_choice : \" + comp_choice + \"your choice : \" + user_choice)\n",
    "            print(\"You lost round \" + str(i) + \" !\")\n",
    "            comp_score += 1\n",
    "        elif(user_choice == \"rock\" and comp_choice == \"scissors\") or (user_choice == \"scissors\" and comp_choice ==\"paper\" ) or (user_choice == \"paper\" and comp_choice == \"rock\"):\n",
    "            print(\"comp_choice : \" + comp_choice + \"your choice : \" + user_choice)\n",
    "            print(\"You won round \" + str(i) + \" !\")\n",
    "            user_score += 1\n",
    "    if user_score > comp_score :\n",
    "        print(\"Congrats!!!, you won the game by  {}:{}\".format(user_score,comp_score))\n",
    "    elif user_score < comp_score :\n",
    "        print(\"You lost the game by {}:{}\".format(user_score,comp_score))\n",
    "    else :\n",
    "        print(\"Game tie : score : 0:0\")\n",
    "    "
   ]
  },
  {
   "cell_type": "code",
   "execution_count": null,
   "id": "49195a47",
   "metadata": {},
   "outputs": [],
   "source": []
  }
 ],
 "metadata": {
  "kernelspec": {
   "display_name": "Python 3",
   "language": "python",
   "name": "python3"
  },
  "language_info": {
   "codemirror_mode": {
    "name": "ipython",
    "version": 3
   },
   "file_extension": ".py",
   "mimetype": "text/x-python",
   "name": "python",
   "nbconvert_exporter": "python",
   "pygments_lexer": "ipython3",
   "version": "3.10.1"
  }
 },
 "nbformat": 4,
 "nbformat_minor": 5
}
