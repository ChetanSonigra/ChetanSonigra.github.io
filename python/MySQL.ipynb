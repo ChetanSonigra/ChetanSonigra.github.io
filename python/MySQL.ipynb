{
 "cells": [
  {
   "cell_type": "code",
   "execution_count": 1,
   "id": "abc5fcd6",
   "metadata": {},
   "outputs": [],
   "source": [
    "import mysql.connector\n",
    "from mysql.connector import Error\n",
    "import pandas as pd"
   ]
  },
  {
   "cell_type": "markdown",
   "id": "ef396a2f",
   "metadata": {},
   "source": [
    "# CREATE CONNECTION"
   ]
  },
  {
   "cell_type": "code",
   "execution_count": 3,
   "id": "ff5f88f6",
   "metadata": {},
   "outputs": [],
   "source": [
    "def create_server_connection(host_name, user_name, user_password):\n",
    "    connection = None\n",
    "    try:\n",
    "        connection = mysql.connector.connect(host = host_name,user = user_name, passwd = user_password)\n",
    "        print(\"MySQL server connection successful.\")\n",
    "    except Error as err :\n",
    "        print(f\"Error : '{err}'\")\n",
    "    return connection\n",
    "    "
   ]
  },
  {
   "cell_type": "code",
   "execution_count": 4,
   "id": "e80444ca",
   "metadata": {},
   "outputs": [],
   "source": [
    "pw = \"*******\"\n",
    "db = 'girrafe'"
   ]
  },
  {
   "cell_type": "code",
   "execution_count": 5,
   "id": "99365ee1",
   "metadata": {},
   "outputs": [
    {
     "name": "stdout",
     "output_type": "stream",
     "text": [
      "MySQL server connection successful.\n"
     ]
    }
   ],
   "source": [
    "connection = create_server_connection(\"localhost\", \"root\",pw)"
   ]
  },
  {
   "cell_type": "markdown",
   "id": "e9ca2893",
   "metadata": {},
   "source": [
    "# create database / execute any query "
   ]
  },
  {
   "cell_type": "code",
   "execution_count": 7,
   "id": "8cae54bf",
   "metadata": {},
   "outputs": [],
   "source": [
    "def create_database(connection,query):\n",
    "    cursor = connection.cursor()\n",
    "    try :\n",
    "        cursor.execute(query)\n",
    "        print(\"database creation was successfull\")\n",
    "    except Error as err:\n",
    "        print(f\"Error : '{err}'\")\n",
    "        \n",
    "    "
   ]
  },
  {
   "cell_type": "code",
   "execution_count": 11,
   "id": "eafc65c3",
   "metadata": {},
   "outputs": [
    {
     "name": "stdout",
     "output_type": "stream",
     "text": [
      "Error : '1007 (HY000): Can't create database 'mysql_python'; database exists'\n"
     ]
    }
   ],
   "source": [
    "create_database_mysql_python = \"CREATE DATABASE mysql_python\"\n",
    "create_database(connection,create_database_mysql_python)"
   ]
  },
  {
   "cell_type": "code",
   "execution_count": null,
   "id": "b29c3427",
   "metadata": {},
   "outputs": [],
   "source": []
  },
  {
   "cell_type": "markdown",
   "id": "6f0ac92c",
   "metadata": {},
   "source": [
    "# Create DB connection"
   ]
  },
  {
   "cell_type": "code",
   "execution_count": 13,
   "id": "09102dcd",
   "metadata": {},
   "outputs": [],
   "source": [
    "def create_dbconnection(host_name, user_name, user_password, db_name):\n",
    "    connection = None\n",
    "    try :\n",
    "        connection = mysql.connector.connect(host = host_name, user = user_name, passwd = user_password, database = db_name)\n",
    "        print(f\"databse connection to {db_name} successfull.\")\n",
    "    except Error as err:\n",
    "        print(f\"Error : '{err}'\")\n",
    "    return connection"
   ]
  },
  {
   "cell_type": "code",
   "execution_count": 15,
   "id": "454662a5",
   "metadata": {},
   "outputs": [
    {
     "name": "stdout",
     "output_type": "stream",
     "text": [
      "databse connection to mysql_python successfull.\n"
     ]
    },
    {
     "data": {
      "text/plain": [
       "<mysql.connector.connection_cext.CMySQLConnection at 0x20eeee536d0>"
      ]
     },
     "execution_count": 15,
     "metadata": {},
     "output_type": "execute_result"
    }
   ],
   "source": [
    "create_dbconnection(\"localhost\",\"root\", pw, \"mysql_python\")"
   ]
  },
  {
   "cell_type": "code",
   "execution_count": null,
   "id": "e751286f",
   "metadata": {},
   "outputs": [],
   "source": []
  },
  {
   "cell_type": "markdown",
   "id": "bc41f241",
   "metadata": {},
   "source": [
    "# EXECUTE QUERY"
   ]
  },
  {
   "cell_type": "code",
   "execution_count": 19,
   "id": "4af1b51a",
   "metadata": {},
   "outputs": [],
   "source": [
    "def execute_query(connection,query):\n",
    "    cursor = connection.cursor()\n",
    "    try:\n",
    "        cursor.execute(query)\n",
    "        print(\"query successful\")\n",
    "    except Error as err:\n",
    "        print(f\"Error : {err}\")\n",
    "        "
   ]
  },
  {
   "cell_type": "code",
   "execution_count": null,
   "id": "5182dd33",
   "metadata": {},
   "outputs": [],
   "source": []
  },
  {
   "cell_type": "code",
   "execution_count": 20,
   "id": "785cc76c",
   "metadata": {},
   "outputs": [],
   "source": [
    "create_table_employees = \"\"\"\n",
    "Create table employees(\n",
    "EmpID INT NOT NULL PRIMARY KEY AUTO_INCREMENT,\n",
    "EmpName varchar(20) ,\n",
    "age int ,\n",
    "gender char(1),\n",
    "doj date,\n",
    "dept varchar(25),\n",
    "city varchar(25),\n",
    "salary float(2),\n",
    "CHECK (GENDER IN ('M','F'))\n",
    ");\n",
    "\"\"\""
   ]
  },
  {
   "cell_type": "code",
   "execution_count": 21,
   "id": "40ce76e0",
   "metadata": {},
   "outputs": [
    {
     "name": "stdout",
     "output_type": "stream",
     "text": [
      "query successful\n"
     ]
    }
   ],
   "source": [
    "execute_query(connection, create_table_employees)"
   ]
  },
  {
   "cell_type": "code",
   "execution_count": 23,
   "id": "3d4a5646",
   "metadata": {},
   "outputs": [],
   "source": [
    "insert_data_employees = \"\"\"\n",
    "INSERT INTO EMPLOYEES(EMPNAME, AGE, GENDER, DOJ, DEPT, CITY, SALARY)\n",
    "VALUES\n",
    "(\"KENNY\", 22, \"F\", '2020-02-22', 'SALES','CHENNAI',23000),\n",
    "(\"RONAK\", 28, \"M\", '2010-04-12', 'PD','MUMBAI',33000),\n",
    "(\"JENNY\", 23, \"F\", '2022-03-03', 'ANALYTICS','PUNE',27000),\n",
    "(\"KEMAA\", 25, \"F\", '2018-06-06', 'SALES','CHENNAI',23000),\n",
    "(\"SUMAN\", 30, \"M\", '2020-01-11', 'SALES','DELHI',33000),\n",
    "(\"MEHEK\", 21, \"F\", '2010-02-22', 'MFG','CHENNAI',23000),\n",
    "(\"KAMAL\", 22, \"M\", '2018-02-22', 'MFG','DELHI',43000),\n",
    "(\"NEHAL\", 35, \"M\", '2010-02-22', 'MFG','CHENNAI',23000),\n",
    "(\"NEHA\", 40, \"F\", '2020-02-22', 'ANALYTICS','DELHI',63000),\n",
    "(\"NILAM\", 30, \"F\", '2020-02-22', 'ANALYTICS','CHENNAI',23000),\n",
    "(\"AMIT\", 26, \"M\", '2013-01-04', 'ANALYTICS','DELHI',63000),\n",
    "(\"MONIKA\", 23, \"F\", '2021-10-02', 'SALES','CHENNAI',53000),\n",
    "(\"JAGRUTI\", 20, \"F\", '2018-07-24', 'SERVICE','DELHI',43000),\n",
    "(\"ANJALI\", 29, \"F\", '2015-06-12', 'SERVICE','PUNE',83000),\n",
    "(\"SOHAM\", 26, \"M\", '2014-04-28', 'SERVICE','MUMBAI',53000),\n",
    "(\"KEVAL\", 22, \"M\", '2019-02-22', 'SERVICE','PUNE',73000),\n",
    "(\"CHETAN\", 24, \"M\", '2022-09-11', 'PD','CHENNAI',83000),\n",
    "(\"RAM\", 22, \"M\", '2022-07-17', 'PD','PUNE',73000),\n",
    "(\"SEJAL\", 27, \"F\", '2017-03-26', 'PD','CHENNAI',63000),\n",
    "(\"SONAL\", 32, \"F\", '2015-08-03', 'PD','CHENNAI',53000),\n",
    "(\"MONA\", 35, \"F\", '2010-12-29', 'SALES','BANGALORE',73000),\n",
    "(\"PUJA\", 23, \"F\", '2007-05-04', 'SALES','DELHI',53000);\n",
    "\n",
    "\"\"\""
   ]
  },
  {
   "cell_type": "code",
   "execution_count": 25,
   "id": "6948ac08",
   "metadata": {},
   "outputs": [
    {
     "name": "stdout",
     "output_type": "stream",
     "text": [
      "query successful\n"
     ]
    }
   ],
   "source": [
    "execute_query(connection, insert_data_employees)"
   ]
  },
  {
   "cell_type": "code",
   "execution_count": null,
   "id": "ca788208",
   "metadata": {},
   "outputs": [],
   "source": []
  },
  {
   "cell_type": "markdown",
   "id": "25526fdf",
   "metadata": {},
   "source": [
    "# Read query"
   ]
  },
  {
   "cell_type": "code",
   "execution_count": 26,
   "id": "aa148f47",
   "metadata": {},
   "outputs": [],
   "source": [
    "def read_query(conection, query):\n",
    "    try :\n",
    "        cursor = connection.cursor()\n",
    "        cursor.execute(query)\n",
    "        result = cursor.fetchall()\n",
    "        return result \n",
    "    except Error as err :\n",
    "        print(f\"Error : {err}\")\n",
    "\n",
    "        \n",
    "        \n",
    "    \n"
   ]
  },
  {
   "cell_type": "code",
   "execution_count": 30,
   "id": "a2cbb4bf",
   "metadata": {},
   "outputs": [
    {
     "name": "stdout",
     "output_type": "stream",
     "text": [
      "(1, 'KENNY', 22, 'F', datetime.date(2020, 2, 22), 'SALES', 'CHENNAI', 23000.0)\n",
      "(2, 'RONAK', 28, 'M', datetime.date(2010, 4, 12), 'PD', 'MUMBAI', 33000.0)\n",
      "(3, 'JENNY', 23, 'F', datetime.date(2022, 3, 3), 'ANALYTICS', 'PUNE', 27000.0)\n",
      "(4, 'KEMAA', 25, 'F', datetime.date(2018, 6, 6), 'SALES', 'CHENNAI', 23000.0)\n",
      "(5, 'SUMAN', 30, 'M', datetime.date(2020, 1, 11), 'SALES', 'DELHI', 33000.0)\n",
      "(6, 'MEHEK', 21, 'F', datetime.date(2010, 2, 22), 'MFG', 'CHENNAI', 23000.0)\n",
      "(7, 'KAMAL', 22, 'M', datetime.date(2018, 2, 22), 'MFG', 'DELHI', 43000.0)\n",
      "(8, 'NEHAL', 35, 'M', datetime.date(2010, 2, 22), 'MFG', 'CHENNAI', 23000.0)\n",
      "(9, 'NEHA', 40, 'F', datetime.date(2020, 2, 22), 'ANALYTICS', 'DELHI', 63000.0)\n",
      "(10, 'NILAM', 30, 'F', datetime.date(2020, 2, 22), 'ANALYTICS', 'CHENNAI', 23000.0)\n",
      "(11, 'AMIT', 26, 'M', datetime.date(2013, 1, 4), 'ANALYTICS', 'DELHI', 63000.0)\n",
      "(12, 'MONIKA', 23, 'F', datetime.date(2021, 10, 2), 'SALES', 'CHENNAI', 53000.0)\n",
      "(13, 'JAGRUTI', 20, 'F', datetime.date(2018, 7, 24), 'SERVICE', 'DELHI', 43000.0)\n",
      "(14, 'ANJALI', 29, 'F', datetime.date(2015, 6, 12), 'SERVICE', 'PUNE', 83000.0)\n",
      "(15, 'SOHAM', 26, 'M', datetime.date(2014, 4, 28), 'SERVICE', 'MUMBAI', 53000.0)\n",
      "(16, 'KEVAL', 22, 'M', datetime.date(2019, 2, 22), 'SERVICE', 'PUNE', 73000.0)\n",
      "(17, 'CHETAN', 24, 'M', datetime.date(2022, 9, 11), 'PD', 'CHENNAI', 83000.0)\n",
      "(18, 'RAM', 22, 'M', datetime.date(2022, 7, 17), 'PD', 'PUNE', 73000.0)\n",
      "(19, 'SEJAL', 27, 'F', datetime.date(2017, 3, 26), 'PD', 'CHENNAI', 63000.0)\n",
      "(20, 'SONAL', 32, 'F', datetime.date(2015, 8, 3), 'PD', 'CHENNAI', 53000.0)\n",
      "(21, 'MONA', 35, 'F', datetime.date(2010, 12, 29), 'SALES', 'BANGALORE', 73000.0)\n",
      "(22, 'PUJA', 23, 'F', datetime.date(2007, 5, 4), 'SALES', 'DELHI', 53000.0)\n"
     ]
    }
   ],
   "source": [
    "q1 = \"SELECT * FROM EMPLOYEES\"\n",
    "result = read_query(connection,q1)\n",
    "for r in result:\n",
    "    print(r)"
   ]
  },
  {
   "cell_type": "code",
   "execution_count": null,
   "id": "d9148540",
   "metadata": {},
   "outputs": [],
   "source": []
  },
  {
   "cell_type": "markdown",
   "id": "66f60f97",
   "metadata": {},
   "source": [
    "# show using pandas"
   ]
  },
  {
   "cell_type": "code",
   "execution_count": 31,
   "id": "d3e018ec",
   "metadata": {},
   "outputs": [],
   "source": [
    "from_db = []"
   ]
  },
  {
   "cell_type": "code",
   "execution_count": 32,
   "id": "0e20f1a3",
   "metadata": {},
   "outputs": [
    {
     "data": {
      "text/html": [
       "<div>\n",
       "<style scoped>\n",
       "    .dataframe tbody tr th:only-of-type {\n",
       "        vertical-align: middle;\n",
       "    }\n",
       "\n",
       "    .dataframe tbody tr th {\n",
       "        vertical-align: top;\n",
       "    }\n",
       "\n",
       "    .dataframe thead th {\n",
       "        text-align: right;\n",
       "    }\n",
       "</style>\n",
       "<table border=\"1\" class=\"dataframe\">\n",
       "  <thead>\n",
       "    <tr style=\"text-align: right;\">\n",
       "      <th></th>\n",
       "      <th>EmpID</th>\n",
       "      <th>EmpName</th>\n",
       "      <th>Age</th>\n",
       "      <th>gender</th>\n",
       "      <th>doj</th>\n",
       "      <th>dept</th>\n",
       "      <th>city</th>\n",
       "      <th>salary</th>\n",
       "    </tr>\n",
       "  </thead>\n",
       "  <tbody>\n",
       "    <tr>\n",
       "      <th>0</th>\n",
       "      <td>1</td>\n",
       "      <td>KENNY</td>\n",
       "      <td>22</td>\n",
       "      <td>F</td>\n",
       "      <td>2020-02-22</td>\n",
       "      <td>SALES</td>\n",
       "      <td>CHENNAI</td>\n",
       "      <td>23000.0</td>\n",
       "    </tr>\n",
       "    <tr>\n",
       "      <th>1</th>\n",
       "      <td>2</td>\n",
       "      <td>RONAK</td>\n",
       "      <td>28</td>\n",
       "      <td>M</td>\n",
       "      <td>2010-04-12</td>\n",
       "      <td>PD</td>\n",
       "      <td>MUMBAI</td>\n",
       "      <td>33000.0</td>\n",
       "    </tr>\n",
       "    <tr>\n",
       "      <th>2</th>\n",
       "      <td>3</td>\n",
       "      <td>JENNY</td>\n",
       "      <td>23</td>\n",
       "      <td>F</td>\n",
       "      <td>2022-03-03</td>\n",
       "      <td>ANALYTICS</td>\n",
       "      <td>PUNE</td>\n",
       "      <td>27000.0</td>\n",
       "    </tr>\n",
       "    <tr>\n",
       "      <th>3</th>\n",
       "      <td>4</td>\n",
       "      <td>KEMAA</td>\n",
       "      <td>25</td>\n",
       "      <td>F</td>\n",
       "      <td>2018-06-06</td>\n",
       "      <td>SALES</td>\n",
       "      <td>CHENNAI</td>\n",
       "      <td>23000.0</td>\n",
       "    </tr>\n",
       "    <tr>\n",
       "      <th>4</th>\n",
       "      <td>5</td>\n",
       "      <td>SUMAN</td>\n",
       "      <td>30</td>\n",
       "      <td>M</td>\n",
       "      <td>2020-01-11</td>\n",
       "      <td>SALES</td>\n",
       "      <td>DELHI</td>\n",
       "      <td>33000.0</td>\n",
       "    </tr>\n",
       "    <tr>\n",
       "      <th>5</th>\n",
       "      <td>6</td>\n",
       "      <td>MEHEK</td>\n",
       "      <td>21</td>\n",
       "      <td>F</td>\n",
       "      <td>2010-02-22</td>\n",
       "      <td>MFG</td>\n",
       "      <td>CHENNAI</td>\n",
       "      <td>23000.0</td>\n",
       "    </tr>\n",
       "    <tr>\n",
       "      <th>6</th>\n",
       "      <td>7</td>\n",
       "      <td>KAMAL</td>\n",
       "      <td>22</td>\n",
       "      <td>M</td>\n",
       "      <td>2018-02-22</td>\n",
       "      <td>MFG</td>\n",
       "      <td>DELHI</td>\n",
       "      <td>43000.0</td>\n",
       "    </tr>\n",
       "    <tr>\n",
       "      <th>7</th>\n",
       "      <td>8</td>\n",
       "      <td>NEHAL</td>\n",
       "      <td>35</td>\n",
       "      <td>M</td>\n",
       "      <td>2010-02-22</td>\n",
       "      <td>MFG</td>\n",
       "      <td>CHENNAI</td>\n",
       "      <td>23000.0</td>\n",
       "    </tr>\n",
       "    <tr>\n",
       "      <th>8</th>\n",
       "      <td>9</td>\n",
       "      <td>NEHA</td>\n",
       "      <td>40</td>\n",
       "      <td>F</td>\n",
       "      <td>2020-02-22</td>\n",
       "      <td>ANALYTICS</td>\n",
       "      <td>DELHI</td>\n",
       "      <td>63000.0</td>\n",
       "    </tr>\n",
       "    <tr>\n",
       "      <th>9</th>\n",
       "      <td>10</td>\n",
       "      <td>NILAM</td>\n",
       "      <td>30</td>\n",
       "      <td>F</td>\n",
       "      <td>2020-02-22</td>\n",
       "      <td>ANALYTICS</td>\n",
       "      <td>CHENNAI</td>\n",
       "      <td>23000.0</td>\n",
       "    </tr>\n",
       "    <tr>\n",
       "      <th>10</th>\n",
       "      <td>11</td>\n",
       "      <td>AMIT</td>\n",
       "      <td>26</td>\n",
       "      <td>M</td>\n",
       "      <td>2013-01-04</td>\n",
       "      <td>ANALYTICS</td>\n",
       "      <td>DELHI</td>\n",
       "      <td>63000.0</td>\n",
       "    </tr>\n",
       "    <tr>\n",
       "      <th>11</th>\n",
       "      <td>12</td>\n",
       "      <td>MONIKA</td>\n",
       "      <td>23</td>\n",
       "      <td>F</td>\n",
       "      <td>2021-10-02</td>\n",
       "      <td>SALES</td>\n",
       "      <td>CHENNAI</td>\n",
       "      <td>53000.0</td>\n",
       "    </tr>\n",
       "    <tr>\n",
       "      <th>12</th>\n",
       "      <td>13</td>\n",
       "      <td>JAGRUTI</td>\n",
       "      <td>20</td>\n",
       "      <td>F</td>\n",
       "      <td>2018-07-24</td>\n",
       "      <td>SERVICE</td>\n",
       "      <td>DELHI</td>\n",
       "      <td>43000.0</td>\n",
       "    </tr>\n",
       "    <tr>\n",
       "      <th>13</th>\n",
       "      <td>14</td>\n",
       "      <td>ANJALI</td>\n",
       "      <td>29</td>\n",
       "      <td>F</td>\n",
       "      <td>2015-06-12</td>\n",
       "      <td>SERVICE</td>\n",
       "      <td>PUNE</td>\n",
       "      <td>83000.0</td>\n",
       "    </tr>\n",
       "    <tr>\n",
       "      <th>14</th>\n",
       "      <td>15</td>\n",
       "      <td>SOHAM</td>\n",
       "      <td>26</td>\n",
       "      <td>M</td>\n",
       "      <td>2014-04-28</td>\n",
       "      <td>SERVICE</td>\n",
       "      <td>MUMBAI</td>\n",
       "      <td>53000.0</td>\n",
       "    </tr>\n",
       "    <tr>\n",
       "      <th>15</th>\n",
       "      <td>16</td>\n",
       "      <td>KEVAL</td>\n",
       "      <td>22</td>\n",
       "      <td>M</td>\n",
       "      <td>2019-02-22</td>\n",
       "      <td>SERVICE</td>\n",
       "      <td>PUNE</td>\n",
       "      <td>73000.0</td>\n",
       "    </tr>\n",
       "    <tr>\n",
       "      <th>16</th>\n",
       "      <td>17</td>\n",
       "      <td>CHETAN</td>\n",
       "      <td>24</td>\n",
       "      <td>M</td>\n",
       "      <td>2022-09-11</td>\n",
       "      <td>PD</td>\n",
       "      <td>CHENNAI</td>\n",
       "      <td>83000.0</td>\n",
       "    </tr>\n",
       "    <tr>\n",
       "      <th>17</th>\n",
       "      <td>18</td>\n",
       "      <td>RAM</td>\n",
       "      <td>22</td>\n",
       "      <td>M</td>\n",
       "      <td>2022-07-17</td>\n",
       "      <td>PD</td>\n",
       "      <td>PUNE</td>\n",
       "      <td>73000.0</td>\n",
       "    </tr>\n",
       "    <tr>\n",
       "      <th>18</th>\n",
       "      <td>19</td>\n",
       "      <td>SEJAL</td>\n",
       "      <td>27</td>\n",
       "      <td>F</td>\n",
       "      <td>2017-03-26</td>\n",
       "      <td>PD</td>\n",
       "      <td>CHENNAI</td>\n",
       "      <td>63000.0</td>\n",
       "    </tr>\n",
       "    <tr>\n",
       "      <th>19</th>\n",
       "      <td>20</td>\n",
       "      <td>SONAL</td>\n",
       "      <td>32</td>\n",
       "      <td>F</td>\n",
       "      <td>2015-08-03</td>\n",
       "      <td>PD</td>\n",
       "      <td>CHENNAI</td>\n",
       "      <td>53000.0</td>\n",
       "    </tr>\n",
       "    <tr>\n",
       "      <th>20</th>\n",
       "      <td>21</td>\n",
       "      <td>MONA</td>\n",
       "      <td>35</td>\n",
       "      <td>F</td>\n",
       "      <td>2010-12-29</td>\n",
       "      <td>SALES</td>\n",
       "      <td>BANGALORE</td>\n",
       "      <td>73000.0</td>\n",
       "    </tr>\n",
       "    <tr>\n",
       "      <th>21</th>\n",
       "      <td>22</td>\n",
       "      <td>PUJA</td>\n",
       "      <td>23</td>\n",
       "      <td>F</td>\n",
       "      <td>2007-05-04</td>\n",
       "      <td>SALES</td>\n",
       "      <td>DELHI</td>\n",
       "      <td>53000.0</td>\n",
       "    </tr>\n",
       "  </tbody>\n",
       "</table>\n",
       "</div>"
      ],
      "text/plain": [
       "    EmpID  EmpName  Age gender         doj       dept       city   salary\n",
       "0       1    KENNY   22      F  2020-02-22      SALES    CHENNAI  23000.0\n",
       "1       2    RONAK   28      M  2010-04-12         PD     MUMBAI  33000.0\n",
       "2       3    JENNY   23      F  2022-03-03  ANALYTICS       PUNE  27000.0\n",
       "3       4    KEMAA   25      F  2018-06-06      SALES    CHENNAI  23000.0\n",
       "4       5    SUMAN   30      M  2020-01-11      SALES      DELHI  33000.0\n",
       "5       6    MEHEK   21      F  2010-02-22        MFG    CHENNAI  23000.0\n",
       "6       7    KAMAL   22      M  2018-02-22        MFG      DELHI  43000.0\n",
       "7       8    NEHAL   35      M  2010-02-22        MFG    CHENNAI  23000.0\n",
       "8       9     NEHA   40      F  2020-02-22  ANALYTICS      DELHI  63000.0\n",
       "9      10    NILAM   30      F  2020-02-22  ANALYTICS    CHENNAI  23000.0\n",
       "10     11     AMIT   26      M  2013-01-04  ANALYTICS      DELHI  63000.0\n",
       "11     12   MONIKA   23      F  2021-10-02      SALES    CHENNAI  53000.0\n",
       "12     13  JAGRUTI   20      F  2018-07-24    SERVICE      DELHI  43000.0\n",
       "13     14   ANJALI   29      F  2015-06-12    SERVICE       PUNE  83000.0\n",
       "14     15    SOHAM   26      M  2014-04-28    SERVICE     MUMBAI  53000.0\n",
       "15     16    KEVAL   22      M  2019-02-22    SERVICE       PUNE  73000.0\n",
       "16     17   CHETAN   24      M  2022-09-11         PD    CHENNAI  83000.0\n",
       "17     18      RAM   22      M  2022-07-17         PD       PUNE  73000.0\n",
       "18     19    SEJAL   27      F  2017-03-26         PD    CHENNAI  63000.0\n",
       "19     20    SONAL   32      F  2015-08-03         PD    CHENNAI  53000.0\n",
       "20     21     MONA   35      F  2010-12-29      SALES  BANGALORE  73000.0\n",
       "21     22     PUJA   23      F  2007-05-04      SALES      DELHI  53000.0"
      ]
     },
     "metadata": {},
     "output_type": "display_data"
    }
   ],
   "source": [
    "for r in result:\n",
    "    r = list(r)\n",
    "    from_db.append(r)\n",
    "columns = [\"EmpID\", \"EmpName\", \"Age\", \"gender\", \"doj\", \"dept\",\"city\", \"salary\"]\n",
    "df = pd.DataFrame(from_db, columns = columns)\n",
    "\n",
    "display(df)"
   ]
  },
  {
   "cell_type": "code",
   "execution_count": null,
   "id": "16a6ba0e",
   "metadata": {},
   "outputs": [],
   "source": []
  },
  {
   "cell_type": "code",
   "execution_count": null,
   "id": "4c7e75d9",
   "metadata": {},
   "outputs": [],
   "source": []
  }
 ],
 "metadata": {
  "kernelspec": {
   "display_name": "Python 3",
   "language": "python",
   "name": "python3"
  },
  "language_info": {
   "codemirror_mode": {
    "name": "ipython",
    "version": 3
   },
   "file_extension": ".py",
   "mimetype": "text/x-python",
   "name": "python",
   "nbconvert_exporter": "python",
   "pygments_lexer": "ipython3",
   "version": "3.8.8"
  }
 },
 "nbformat": 4,
 "nbformat_minor": 5
}
